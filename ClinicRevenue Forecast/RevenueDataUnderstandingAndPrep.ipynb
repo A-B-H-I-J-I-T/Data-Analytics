{
 "cells": [
  {
   "cell_type": "markdown",
   "metadata": {},
   "source": [
    "# Revenue data understanding and preparation"
   ]
  },
  {
   "cell_type": "code",
   "execution_count": 57,
   "metadata": {},
   "outputs": [],
   "source": [
    "#import all the dependencies\n",
    "import numpy as np\n",
    "import pandas as pd  #for working with the data frame\n",
    "import matplotlib.pyplot as plt # for visualisation\n",
    "from sklearn.ensemble import RandomForestRegressor #for using the machine learning models\n",
    "from sklearn.model_selection import train_test_split# Using Skicit-learn to split data into training and testing sets\n",
    "import warnings\n",
    "warnings.filterwarnings(\"ignore\")"
   ]
  },
  {
   "cell_type": "code",
   "execution_count": 58,
   "metadata": {},
   "outputs": [],
   "source": [
    "# import the csv data\n",
    "df_revenue = pd.read_csv('fake_clinic_data_extract_test.csv')\n"
   ]
  },
  {
   "cell_type": "code",
   "execution_count": 59,
   "metadata": {},
   "outputs": [
    {
     "name": "stdout",
     "output_type": "stream",
     "text": [
      "Below is the sum of null value count in each column\n",
      "\n",
      "appointment_date               0\n",
      "clinic_name                    0\n",
      "patient_id                     0\n",
      "practitioner_id                0\n",
      "appointment_duration_min       0\n",
      "revenues_from_appointment    375\n",
      "dtype: int64\n",
      "\n",
      "Total number of rows in the data are: 4071\n",
      "\n",
      "There are 375 records missing in revenue column out of 4071\n"
     ]
    }
   ],
   "source": [
    "# let us find any missing values in the columns\n",
    "print(\"Below is the sum of null value count in each column\\n\")\n",
    "print(df_revenue.isna().sum())\n",
    "print(\"\\nTotal number of rows in the data are:\",len(df_revenue))\n",
    "print(\"\\nThere are 375 records missing in revenue column out of\",len(df_revenue))"
   ]
  },
  {
   "cell_type": "markdown",
   "metadata": {},
   "source": [
    "### There are 375 (9.2%)records with null value in revenue column\n",
    "### Instead of replacing this with the mean value, I think a better approach would be to replace the values by predictive modelling as there is strong dependency between the practitioner and appointment duration to revenue.\n",
    "### Lets build the predictive model using Random forest Regression\n",
    "### Data Preparation"
   ]
  },
  {
   "cell_type": "code",
   "execution_count": 60,
   "metadata": {},
   "outputs": [],
   "source": [
    "\n",
    "# Copy only the required features\n",
    "features = df_revenue[['clinic_name','practitioner_id','appointment_duration_min','revenues_from_appointment']].copy()\n",
    "\n",
    "#convert the practitoner_id to string type\n",
    "features = features.astype({\"practitioner_id\":str})\n",
    "\n",
    "#one hot encoding\n",
    "features = pd.get_dummies(features)\n",
    "\n",
    "#get rows with na value\n",
    "revenue_ind = features['revenues_from_appointment'].isna()\n",
    "revenue_na = features[revenue_ind]\n",
    "\n",
    "#drop the NA rows we will predict those values\n",
    "features =features.dropna()\n",
    "\n",
    "# Labels are the values we want to predict\n",
    "labels = np.array(features['revenues_from_appointment'])\n",
    "\n",
    "# Remove the labels from the features\n",
    "# axis 1 refers to the columns\n",
    "features= features.drop('revenues_from_appointment', axis = 1)\n",
    "revenue_na= revenue_na.drop('revenues_from_appointment', axis = 1)\n",
    "\n",
    "# Saving feature names for later use\n",
    "feature_list = list(features.columns)\n",
    "\n",
    "# Convert to numpy array\n",
    "features = np.array(features)\n"
   ]
  },
  {
   "cell_type": "markdown",
   "metadata": {},
   "source": [
    "### Data Train and Test split"
   ]
  },
  {
   "cell_type": "code",
   "execution_count": 61,
   "metadata": {},
   "outputs": [],
   "source": [
    "\n",
    "# Split the data into training and testing sets\n",
    "train_features, test_features, train_labels, test_labels = train_test_split(features, labels, test_size = 0.25, random_state = 42)"
   ]
  },
  {
   "cell_type": "markdown",
   "metadata": {},
   "source": [
    "### Train the model"
   ]
  },
  {
   "cell_type": "code",
   "execution_count": 62,
   "metadata": {},
   "outputs": [],
   "source": [
    "# Instantiate model with 1000 decision trees\n",
    "rf = RandomForestRegressor(n_estimators = 1000, random_state = 42)\n",
    "\n",
    "# Train the model on training data\n",
    "rf.fit(train_features, train_labels);"
   ]
  },
  {
   "cell_type": "markdown",
   "metadata": {},
   "source": [
    "### Predict and check the performance"
   ]
  },
  {
   "cell_type": "code",
   "execution_count": 63,
   "metadata": {},
   "outputs": [
    {
     "name": "stdout",
     "output_type": "stream",
     "text": [
      "Average baseline error:  104.85\n",
      "Mean Absolute Error of the predicted values: 85.94 degrees.\n"
     ]
    }
   ],
   "source": [
    "\n",
    "# Use the forest's predict method on the test data\n",
    "predictions = rf.predict(test_features)\n",
    "\n",
    "# Calculate the absolute errors\n",
    "errors = abs(predictions - test_labels)\n",
    "\n",
    "# Baseline errors, and display average baseline error\n",
    "baseline_errors = abs(np.mean(test_labels) - test_labels)\n",
    "print('Average baseline error: ', round(np.mean(baseline_errors), 2))\n",
    "# Print out the mean absolute error (mae)\n",
    "print('Mean Absolute Error of the predicted values:', round(np.mean(errors), 2), 'degrees.')\n"
   ]
  },
  {
   "cell_type": "markdown",
   "metadata": {},
   "source": [
    "### Lets replace the null values in the revenue column using our trained model"
   ]
  },
  {
   "cell_type": "code",
   "execution_count": 64,
   "metadata": {},
   "outputs": [
    {
     "name": "stdout",
     "output_type": "stream",
     "text": [
      "Now there are no null values in Data\n",
      "\n",
      "appointment_date             0\n",
      "clinic_name                  0\n",
      "patient_id                   0\n",
      "practitioner_id              0\n",
      "appointment_duration_min     0\n",
      "revenues_from_appointment    0\n",
      "dtype: int64\n"
     ]
    }
   ],
   "source": [
    "#the absolute error is less compatred to the average baseline error so we can use this model to replace null values in revenue\n",
    "#let us replace the null values in the revenue column \n",
    "predict_na = rf.predict(revenue_na)\n",
    "df_revenue['revenues_from_appointment'][revenue_ind]=predict_na\n",
    "\n",
    "#print the na values\n",
    "print(\"Now there are no null values in Data\\n\")\n",
    "print(df_revenue.isna().sum())\n",
    "\n"
   ]
  },
  {
   "cell_type": "markdown",
   "metadata": {},
   "source": [
    "# Let us analyse each column of the file\n",
    "## Appointment Date"
   ]
  },
  {
   "cell_type": "code",
   "execution_count": 65,
   "metadata": {},
   "outputs": [
    {
     "name": "stdout",
     "output_type": "stream",
     "text": [
      "Below is the Total revenue per month\n",
      "   YearMonth  Total_Revenue\n",
      "0  2021 Jun    3583.731151\n",
      "1  2021 Jul   60949.408551\n",
      "2  2021 Aug   94088.841768\n",
      "3  2021 Sep   99537.539987\n",
      "4  2021 Oct   99373.951346\n",
      "5  2021 Nov  136181.923521\n",
      "6  2021 Dec  146052.241315\n"
     ]
    }
   ],
   "source": [
    "#drop any duplicate date\n",
    "df_revenue =df_revenue.drop_duplicates()\n",
    "\n",
    "#convert the appointment date to a date data type\n",
    "df_revenue['appointment_date'] = pd.to_datetime(df_revenue['appointment_date']).dt.date\n",
    "\n",
    "#making sure that the data is sorted according to appointment date\n",
    "df_revenue = df_revenue.sort_values(by='appointment_date')\n",
    "\n",
    "# adding 2 more attributes which is appointment date in Year and month format\n",
    "df_revenue['YearMonth']= df_revenue['appointment_date'].apply(lambda x:x.strftime('%Y %b'))\n",
    "df_revenue['Yearmonth']= df_revenue['appointment_date'].apply(lambda x:x.strftime('%Y %m'))\n",
    "\n",
    "#let us sum the revenue in accordance with Month\n",
    "df_revenue_month=df_revenue[['YearMonth','revenues_from_appointment','Yearmonth']].copy()\n",
    "df_revenue_month_agg = df_revenue_month.groupby(['YearMonth','Yearmonth']).sum(['revenues_from_appointment']).sort_values(by=['Yearmonth'])\n",
    "\n",
    "#convert the  index to a data frame\n",
    "df_revenue_month=df_revenue_month_agg.index.to_frame(index=False)\n",
    "df_revenue_month['Total_Revenue'] = df_revenue_month_agg['revenues_from_appointment'].values\n",
    "del df_revenue_month['Yearmonth']\n",
    "print(\"Below is the Total revenue per month\\n\",df_revenue_month)"
   ]
  },
  {
   "cell_type": "markdown",
   "metadata": {},
   "source": [
    "### Histogram of Appointment date"
   ]
  },
  {
   "cell_type": "code",
   "execution_count": 66,
   "metadata": {},
   "outputs": [
    {
     "data": {
      "image/png": "[encoded data removed]",
      "text/plain": [
       "<Figure size 432x288 with 1 Axes>"
      ]
     },
     "metadata": {},
     "output_type": "display_data"
    },
    {
     "name": "stdout",
     "output_type": "stream",
     "text": [
      "We can observe from above that the number of patient visit has increased over the duration\n",
      "\n"
     ]
    }
   ],
   "source": [
    "plt.style.use('ggplot')\n",
    "plt.hist(df_revenue['appointment_date'],bins=6)\n",
    "plt.title(\"Distribution of Appointment date\")\n",
    "plt.show()\n",
    "print(\"We can observe from above that the number of patient visit has increased over the duration\\n\")"
   ]
  },
  {
   "cell_type": "markdown",
   "metadata": {},
   "source": [
    "### Plot of revenue over the duration"
   ]
  },
  {
   "cell_type": "code",
   "execution_count": 67,
   "metadata": {},
   "outputs": [
    {
     "data": {
      "image/png": "[encoded data removed]",
      "text/plain": [
       "<Figure size 432x288 with 1 Axes>"
      ]
     },
     "metadata": {},
     "output_type": "display_data"
    },
    {
     "name": "stdout",
     "output_type": "stream",
     "text": [
      "We can observe from above that the revenue shows an upward trend over the time \n"
     ]
    }
   ],
   "source": [
    "plt.plot(df_revenue_month['YearMonth'],df_revenue_month['Total_Revenue'])\n",
    "plt.title('Total revenue over the duration')\n",
    "plt.xlabel('Month')\n",
    "plt.ylabel('Revenue')\n",
    "plt.show()\n",
    "print(\"We can observe from above that the revenue shows an upward trend over the time \")"
   ]
  },
  {
   "cell_type": "markdown",
   "metadata": {},
   "source": [
    "### Clinic Name"
   ]
  },
  {
   "cell_type": "code",
   "execution_count": 68,
   "metadata": {},
   "outputs": [
    {
     "name": "stdout",
     "output_type": "stream",
     "text": [
      "Below is the total sum of revenue for both the clinic\n",
      "              revenues_from_appointment\n",
      "clinic_name                           \n",
      "clinic_1                 327694.792237\n",
      "clinic_2                 312072.845403\n"
     ]
    }
   ],
   "source": [
    "# create a dataframe with clinic name and revenue\n",
    "df_revenue_clinic = df_revenue[['clinic_name','revenues_from_appointment']].copy()\n",
    "\n",
    "#lets sum the revenue to clinic names\n",
    "df_revenue_clinic_agg = df_revenue_clinic.groupby('clinic_name').sum(['revenues_from_appointment']).sort_values(by=['clinic_name'])\n",
    "\n",
    "#print the result\n",
    "print(\"Below is the total sum of revenue for both the clinic\\n\",df_revenue_clinic_agg)"
   ]
  },
  {
   "cell_type": "markdown",
   "metadata": {},
   "source": [
    "### Histogram of Clinic Name"
   ]
  },
  {
   "cell_type": "code",
   "execution_count": 69,
   "metadata": {},
   "outputs": [
    {
     "data": {
      "image/png": "[encoded data removed]",
      "text/plain": [
       "<Figure size 432x288 with 1 Axes>"
      ]
     },
     "metadata": {},
     "output_type": "display_data"
    },
    {
     "name": "stdout",
     "output_type": "stream",
     "text": [
      "The number of appointments in clinic 1 are more than clinic 2\n",
      "\n"
     ]
    }
   ],
   "source": [
    "plt.style.use('ggplot')\n",
    "plt.hist(df_revenue_clinic['clinic_name'].sort_values())\n",
    "plt.title(\"Distribution of Clinic Name\")\n",
    "plt.show()\n",
    "print(\"The number of appointments in clinic 1 are more than clinic 2\\n\")"
   ]
  },
  {
   "cell_type": "markdown",
   "metadata": {},
   "source": [
    "### Bar chart of both clinic gross revenue"
   ]
  },
  {
   "cell_type": "code",
   "execution_count": 70,
   "metadata": {},
   "outputs": [
    {
     "data": {
      "image/png": "[encoded data removed]",
      "text/plain": [
       "<Figure size 432x288 with 1 Axes>"
      ]
     },
     "metadata": {},
     "output_type": "display_data"
    },
    {
     "name": "stdout",
     "output_type": "stream",
     "text": [
      "Both the clinic have almost similar gross revenue even though the clinic 1 had more number of appointments\n"
     ]
    }
   ],
   "source": [
    "plt.bar(df_revenue_clinic_agg.index,df_revenue_clinic_agg['revenues_from_appointment'])\n",
    "plt.title('Total revenue for both the clinic')\n",
    "plt.xlabel('Clinic Name')\n",
    "plt.ylabel('Revenue')\n",
    "plt.show()\n",
    "print(\"Both the clinic have almost similar gross revenue even though the clinic 1 had more number of appointments\")"
   ]
  },
  {
   "cell_type": "markdown",
   "metadata": {},
   "source": [
    "### No of practitioner per clinic"
   ]
  },
  {
   "cell_type": "code",
   "execution_count": 71,
   "metadata": {},
   "outputs": [
    {
     "data": {
      "image/png": "[encoded data removed]",
      "text/plain": [
       "<Figure size 432x288 with 1 Axes>"
      ]
     },
     "metadata": {},
     "output_type": "display_data"
    },
    {
     "name": "stdout",
     "output_type": "stream",
     "text": [
      "Clinic 2 has double the number of practioner compared to clinic 1 even though clinic 1 is more busy\n"
     ]
    }
   ],
   "source": [
    "# create a dataframe with clinic name and practitioner id\n",
    "df_revenue_clinic_practitioner = df_revenue[['clinic_name','practitioner_id']].copy()\n",
    "\n",
    "#total count of practitioner to clinic names\n",
    "df_revenue_clinic_pract_count = df_revenue_clinic_practitioner.groupby('clinic_name').nunique()\n",
    "\n",
    "#rename the column name\n",
    "df_revenue_clinic_pract_count.rename(columns={'practitioner_id':'no_of_practitioner'},inplace=True)\n",
    "\n",
    "\n",
    "#barplot\n",
    "plt.bar(df_revenue_clinic_pract_count.index,df_revenue_clinic_pract_count['no_of_practitioner'])\n",
    "plt.title('Total practitioners working in each clinic')\n",
    "plt.xlabel('Clinic Name')\n",
    "plt.ylabel('No of practitioner')\n",
    "plt.show()\n",
    "print(\"Clinic 2 has double the number of practioner compared to clinic 1 even though clinic 1 is more busy\")"
   ]
  },
  {
   "cell_type": "markdown",
   "metadata": {},
   "source": [
    "### Patient id"
   ]
  },
  {
   "cell_type": "code",
   "execution_count": 72,
   "metadata": {},
   "outputs": [
    {
     "name": "stdout",
     "output_type": "stream",
     "text": [
      "Below is the total sum of patients that visit both the clinics\n",
      "              total_patient\n",
      "clinic_name               \n",
      "clinic_1              1011\n",
      "clinic_2               724\n"
     ]
    }
   ],
   "source": [
    "# create a dataframe with patient and clinic name\n",
    "df_revenue_patient = df_revenue[['patient_id','clinic_name']].copy()\n",
    "\n",
    "#lets sum how many patient visits which clinics \n",
    "df_revenue_patient_count = df_revenue_patient.groupby('clinic_name').nunique()\n",
    "\n",
    "#rename the column name to number of patients\n",
    "df_revenue_patient_count.rename(columns={'patient_id':'total_patient'},inplace=True)\n",
    "\n",
    "#print the result\n",
    "print(\"Below is the total sum of patients that visit both the clinics\\n\",df_revenue_patient_count)"
   ]
  },
  {
   "cell_type": "markdown",
   "metadata": {},
   "source": [
    "### Bar plot of total patient in both the clinic"
   ]
  },
  {
   "cell_type": "code",
   "execution_count": 73,
   "metadata": {},
   "outputs": [
    {
     "data": {
      "image/png": "[encoded data removed]",
      "text/plain": [
       "<Figure size 432x288 with 1 Axes>"
      ]
     },
     "metadata": {},
     "output_type": "display_data"
    },
    {
     "name": "stdout",
     "output_type": "stream",
     "text": [
      "Clinic 1 has more number of patient\n"
     ]
    }
   ],
   "source": [
    "plt.bar(df_revenue_patient_count.index,df_revenue_patient_count['total_patient'])\n",
    "plt.title('Total number of patient for both the clinic')\n",
    "plt.xlabel('Clinic Name')\n",
    "plt.ylabel('Total Patient')\n",
    "plt.show()\n",
    "print(\"Clinic 1 has more number of patient\")"
   ]
  },
  {
   "cell_type": "markdown",
   "metadata": {},
   "source": [
    "### Practitioner id"
   ]
  },
  {
   "cell_type": "markdown",
   "metadata": {},
   "source": [
    "### Histogram of practitioner id"
   ]
  },
  {
   "cell_type": "code",
   "execution_count": 74,
   "metadata": {},
   "outputs": [
    {
     "data": {
      "image/png": "[encoded data removed]",
      "text/plain": [
       "<Figure size 432x288 with 1 Axes>"
      ]
     },
     "metadata": {},
     "output_type": "display_data"
    },
    {
     "name": "stdout",
     "output_type": "stream",
     "text": [
      "Practitioner 741 and 756 had more number of appointments\n"
     ]
    }
   ],
   "source": [
    "# create a dataframe with practitioner id and patient id\n",
    "df_revenue_practitioner = df_revenue[['practitioner_id','patient_id']].copy()\n",
    "\n",
    "# covert the pracitioner id to string\n",
    "df_revenue_practitioner = df_revenue_practitioner.astype({\"practitioner_id\":str})\n",
    "\n",
    "# Histogram of Practioner id\n",
    "plt.style.use('ggplot')\n",
    "plt.hist(df_revenue_practitioner['practitioner_id'].sort_values())\n",
    "plt.title(\"Distribution of Practitioner\")\n",
    "plt.show()\n",
    "print(\"Practitioner 741 and 756 had more number of appointments\")"
   ]
  },
  {
   "cell_type": "markdown",
   "metadata": {},
   "source": [
    "### Total patients associated with practitioners"
   ]
  },
  {
   "cell_type": "code",
   "execution_count": 75,
   "metadata": {},
   "outputs": [
    {
     "name": "stdout",
     "output_type": "stream",
     "text": [
      "Total patients associated with practitioners\n",
      "                  no_of_patients\n",
      "practitioner_id                \n",
      "931                           1\n",
      "757                         409\n",
      "756                         637\n",
      "755                         366\n",
      "748                         113\n",
      "745                         132\n",
      "742                         147\n",
      "741                         492\n",
      "1030                        151\n"
     ]
    },
    {
     "data": {
      "image/png": "[encoded data removed]",
      "text/plain": [
       "<Figure size 432x288 with 1 Axes>"
      ]
     },
     "metadata": {},
     "output_type": "display_data"
    },
    {
     "name": "stdout",
     "output_type": "stream",
     "text": [
      "Patients are unevenly distributed among the practitioners\n"
     ]
    }
   ],
   "source": [
    "#lets find the total patient associated with practitioner \n",
    "df_revenue_pract_pat_count = df_revenue_practitioner.groupby('practitioner_id').nunique().sort_values('practitioner_id',ascending=False)\n",
    "\n",
    "#rename the column name\n",
    "df_revenue_pract_pat_count.rename(columns={'patient_id':'no_of_patients'},inplace=True)\n",
    "\n",
    "#print the information\n",
    "print(\"Total patients associated with practitioners\\n\",df_revenue_pract_pat_count)\n",
    "\n",
    "#barplot\n",
    "plt.bar(df_revenue_pract_pat_count.index,df_revenue_pract_pat_count['no_of_patients'])\n",
    "plt.title('Total patients associated with practitioners')\n",
    "plt.xlabel('Practitioner Id')\n",
    "plt.ylabel('Total number of patients')\n",
    "plt.show()\n",
    "print(\"Patients are unevenly distributed among the practitioners\")"
   ]
  },
  {
   "cell_type": "markdown",
   "metadata": {},
   "source": [
    "### Total revenue each practioner generate"
   ]
  },
  {
   "cell_type": "code",
   "execution_count": 76,
   "metadata": {},
   "outputs": [
    {
     "name": "stdout",
     "output_type": "stream",
     "text": [
      "Total revenue associated with practitioners\n",
      "                  total_revenue\n",
      "practitioner_id               \n",
      "931                 142.461833\n",
      "757               52953.602234\n",
      "756              180749.329787\n",
      "755               93991.860215\n",
      "748               24893.637729\n",
      "745               17995.315958\n",
      "742               18694.771498\n",
      "741              214084.000239\n",
      "1030              36262.658145\n"
     ]
    },
    {
     "data": {
      "image/png": "[encoded data removed]",
      "text/plain": [
       "<Figure size 432x288 with 1 Axes>"
      ]
     },
     "metadata": {},
     "output_type": "display_data"
    },
    {
     "name": "stdout",
     "output_type": "stream",
     "text": [
      "Practitioner 756 and 741 bring most of the revenue\n"
     ]
    }
   ],
   "source": [
    "# create a dataframe with practitioner id and revenues_from_appointment\n",
    "df_revenue_practitioner = df_revenue[['practitioner_id','revenues_from_appointment']].copy()\n",
    "\n",
    "# covert the pracitioner id to string\n",
    "df_revenue_practitioner = df_revenue_practitioner.astype({\"practitioner_id\":str})\n",
    "\n",
    "#lets find the total revenue associated with practitioner \n",
    "df_revenue_pract_revenue_sum = df_revenue_practitioner.groupby('practitioner_id').sum().sort_values('practitioner_id',ascending=False)\n",
    "\n",
    "#rename the column name\n",
    "df_revenue_pract_revenue_sum.rename(columns={'revenues_from_appointment':'total_revenue'},inplace=True)\n",
    "\n",
    "#print the information\n",
    "print(\"Total revenue associated with practitioners\\n\",df_revenue_pract_revenue_sum)\n",
    "\n",
    "#barplot\n",
    "plt.bar(df_revenue_pract_revenue_sum.index,df_revenue_pract_revenue_sum['total_revenue'])\n",
    "plt.title('Total revenue associated with practitioners')\n",
    "plt.xlabel('Practitioner Id')\n",
    "plt.ylabel('Total Revenue')\n",
    "plt.show()\n",
    "print(\"Practitioner 756 and 741 bring most of the revenue\")"
   ]
  },
  {
   "cell_type": "markdown",
   "metadata": {},
   "source": [
    "### Appointment Duration"
   ]
  },
  {
   "cell_type": "code",
   "execution_count": 77,
   "metadata": {},
   "outputs": [
    {
     "name": "stdout",
     "output_type": "stream",
     "text": [
      "Statistics of the appointment_duration_min\n",
      "  count    4061.000000\n",
      "mean       42.295001\n",
      "std        28.555367\n",
      "min        15.000000\n",
      "25%        30.000000\n",
      "50%        30.000000\n",
      "75%        60.000000\n",
      "max       330.000000\n",
      "Name: appointment_duration_min, dtype: float64\n",
      "\n",
      "The mode of the appointment duration: [30] \n",
      "\n",
      "The distribution of Appointment duration \n",
      "App Dur  Occurance\n",
      " 15      683\n",
      "20        1\n",
      "30     1658\n",
      "40        1\n",
      "45      332\n",
      "55        6\n",
      "60     1122\n",
      "75       78\n",
      "85        1\n",
      "90       82\n",
      "105      22\n",
      "120      35\n",
      "135       6\n",
      "150       4\n",
      "180       5\n",
      "195       1\n",
      "210       1\n",
      "240       2\n",
      "255       3\n",
      "270       2\n",
      "285       2\n",
      "300      13\n",
      "330       1\n",
      "Name: appointment_duration_min, dtype: int64\n",
      "\n",
      "Observation: Most of the appointments were either of 15, 30 or 60 minutes \n"
     ]
    }
   ],
   "source": [
    "#stats of the data\n",
    "print(\"Statistics of the appointment_duration_min\\n \",df_revenue['appointment_duration_min'].describe())\n",
    "\n",
    "#mode of appointment_duration_min\n",
    "print(\"\\nThe mode of the appointment duration:\",df_revenue['appointment_duration_min'].mode().values,\"\\n\")\n",
    "\n",
    "#print the distribution\n",
    "print(\"The distribution of Appointment duration \\nApp Dur  Occurance\\n\",df_revenue['appointment_duration_min'].value_counts().sort_index())\n",
    "\n",
    "#Observation\n",
    "print(\"\\nObservation: Most of the appointments were either of 15, 30 or 60 minutes \")\n",
    "\n"
   ]
  },
  {
   "cell_type": "code",
   "execution_count": 78,
   "metadata": {},
   "outputs": [
    {
     "name": "stdout",
     "output_type": "stream",
     "text": [
      "Statistics of the revenue attribute\n",
      "  count    4061.000000\n",
      "mean      157.539433\n",
      "std       235.069109\n",
      "min        33.540000\n",
      "25%        78.120000\n",
      "50%       105.180000\n",
      "75%       154.329300\n",
      "max      5655.920000\n",
      "Name: revenues_from_appointment, dtype: float64\n",
      "\n",
      " There is lot of variance in the revenue attribute\n"
     ]
    }
   ],
   "source": [
    "#stats of the revenue column\n",
    "print(\"Statistics of the revenue attribute\\n \",df_revenue['revenues_from_appointment'].describe())\n",
    "\n",
    "#Observation\n",
    "print(\"\\n There is lot of variance in the revenue attribute\")\n"
   ]
  },
  {
   "cell_type": "code",
   "execution_count": 79,
   "metadata": {},
   "outputs": [],
   "source": [
    "#create the dataframe to be exported to csv for forecasting \n",
    "df_revenue_forecast = df_revenue[['appointment_date','revenues_from_appointment']].copy()\n",
    "\n",
    "# group data with date \n",
    "df_revenue_forecast = df_revenue_forecast.groupby('appointment_date').sum('revenues_from_appointment').sort_values('appointment_date')\n",
    "\n",
    "#export to csv\n",
    "df_revenue_forecast.to_csv(\"Revenue Forecast 2022.csv\",index=True)\n",
    "\n"
   ]
  }
 ],
 "metadata": {
  "interpreter": {
   "hash": "198dc38c81252feb4faa0d475279f5f6c993dd4570bd3709069413259282040c"
  },
  "kernelspec": {
   "display_name": "Python 3.8.8 ('base')",
   "language": "python",
   "name": "python3"
  },
  "language_info": {
   "codemirror_mode": {
    "name": "ipython",
    "version": 3
   },
   "file_extension": ".py",
   "mimetype": "text/x-python",
   "name": "python",
   "nbconvert_exporter": "python",
   "pygments_lexer": "ipython3",
   "version": "3.8.8"
  },
  "orig_nbformat": 4
 },
 "nbformat": 4,
 "nbformat_minor": 2
}
